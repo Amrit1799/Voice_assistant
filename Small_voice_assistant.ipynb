{
 "cells": [
  {
   "cell_type": "code",
   "execution_count": 1,
   "metadata": {},
   "outputs": [],
   "source": [
    "import os\n",
    "import playsound\n",
    "import pyttsx3\n",
    "import speech_recognition as sr\n",
    "from gtts import gTTS\n",
    "from datetime import datetime\n",
    "import subprocess"
   ]
  },
  {
   "cell_type": "code",
   "execution_count": 2,
   "metadata": {},
   "outputs": [
    {
     "data": {
      "text/plain": [
       "\"print(str(datetime.now()))\\ntext = get_audio()\\nif 'how are you' in text:\\n    s1 = 'Hi there,i am fine'\\n    speaktext(s1)\\nelif ' time' in text:\\n    s = str(datetime.now())\\n    print(s)\\n    speaktext(s)\""
      ]
     },
     "execution_count": 2,
     "metadata": {},
     "output_type": "execute_result"
    }
   ],
   "source": [
    "'''def speak(text):                  #for saving the audio and playing it\n",
    "    tts = gTTS(text=text, lang='en')\n",
    "    fname = 'audio2.mp3'\n",
    "    tts.save(fname)\n",
    "    playsound.playsound(fname,True)\n",
    "    os.remove(fname) '''\n",
    "def speaktext(command):          #for listening the audio better than gtts and no need of saving in file so less memory.\n",
    "    eng = pyttsx3.init()\n",
    "    eng.say(command)  \n",
    "    eng.runAndWait()\n",
    "def get_audio():                 #for converting what you say\n",
    "    r = sr.Recognizer()\n",
    "    with sr.Microphone() as source:\n",
    "        #speaktext(\"Speak into the microphone\")\n",
    "        #print('Start')\n",
    "        audio = r.listen(source)\n",
    "        out = ''\n",
    "        try:\n",
    "            out = r.recognize_google(audio)\n",
    "            #print(out)\n",
    "        except Exception as e:\n",
    "            print('Exception: '+ str(e))\n",
    "    return out.lower()\n",
    "#get_audio()\n",
    "'''print(str(datetime.now()))\n",
    "text = get_audio()\n",
    "if 'how are you' in text:\n",
    "    s1 = 'Hi there,i am fine'\n",
    "    speaktext(s1)\n",
    "elif ' time' in text:\n",
    "    s = str(datetime.now())\n",
    "    print(s)\n",
    "    speaktext(s)'''"
   ]
  },
  {
   "cell_type": "code",
   "execution_count": 3,
   "metadata": {},
   "outputs": [
    {
     "data": {
      "text/plain": [
       "\"text = get_audio()\\nif 'how are you' in text:\\n    s1 = 'i am fine'\\n    speaktext(s1)\\nelif 'date' in text:\\n    s = str(datetime.now())\\n    print(s)\\n    speaktext(s)\""
      ]
     },
     "execution_count": 3,
     "metadata": {},
     "output_type": "execute_result"
    }
   ],
   "source": [
    "'''text = get_audio()\n",
    "if 'how are you' in text:\n",
    "    s1 = 'i am fine'\n",
    "    speaktext(s1)\n",
    "elif 'date' in text:\n",
    "    s = str(datetime.now())\n",
    "    print(s)\n",
    "    speaktext(s)'''"
   ]
  },
  {
   "cell_type": "code",
   "execution_count": 5,
   "metadata": {},
   "outputs": [
    {
     "name": "stdout",
     "output_type": "stream",
     "text": [
      "Start\n",
      "Start\n",
      "Start\n"
     ]
    }
   ],
   "source": [
    "def note(text):\n",
    "    date = datetime.now()\n",
    "    file_name = 'Note on - '+str(date).replace(':','-')+'.txt'\n",
    "    with open(file_name,'w') as f:\n",
    "        f.write(text)\n",
    "    subprocess.Popen([\"notepad.exe\",file_name])\n",
    "NOTE = ['make a note','write this down','remember this']\n",
    "EXIT = ['bye','good night']\n",
    "#phrase = get_audio()\n",
    "#for phrase in NOTE:\n",
    "\n",
    "START = 'hey amrit'\n",
    "print(\"Start\")\n",
    "\n",
    "while True:\n",
    "    text = get_audio()\n",
    "    if text.count(START)>0:\n",
    "        speaktext('hi,i am ready')\n",
    "        text = get_audio()\n",
    "\n",
    "    if text in NOTE:\n",
    "        speaktext('what do you want me to write down?')\n",
    "        note_text = get_audio()\n",
    "        note(note_text)\n",
    "        speaktext('I have made a note for it')\n",
    "    elif text in EXIT:\n",
    "        speaktext('Bye. I hope i was helpful to you')\n",
    "        break"
   ]
  },
  {
   "cell_type": "code",
   "execution_count": null,
   "metadata": {},
   "outputs": [],
   "source": []
  }
 ],
 "metadata": {
  "kernelspec": {
   "display_name": "Python 3",
   "language": "python",
   "name": "python3"
  },
  "language_info": {
   "codemirror_mode": {
    "name": "ipython",
    "version": 3
   },
   "file_extension": ".py",
   "mimetype": "text/x-python",
   "name": "python",
   "nbconvert_exporter": "python",
   "pygments_lexer": "ipython3",
   "version": "3.7.1"
  }
 },
 "nbformat": 4,
 "nbformat_minor": 2
}
